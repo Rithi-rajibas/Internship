{
 "cells": [
  {
   "cell_type": "markdown",
   "id": "0cca1fc3",
   "metadata": {},
   "source": [
    "######         REGULAR EXPRESSION---ASSIGNMENTS"
   ]
  },
  {
   "cell_type": "code",
   "execution_count": null,
   "id": "138dddbe",
   "metadata": {},
   "outputs": [],
   "source": [
    "Question 1- Write a Python program to replace all occurrences of a space, comma, or dot with a colon."
   ]
  },
  {
   "cell_type": "code",
   "execution_count": 19,
   "id": "7d0ff6cc",
   "metadata": {},
   "outputs": [
    {
     "name": "stdout",
     "output_type": "stream",
     "text": [
      "Python Exercises, PHP exercises.\n",
      "Python:Exercises::PHP:exercises:\n"
     ]
    }
   ],
   "source": [
    "import re\n",
    "text=\"Python Exercises, PHP exercises.\"\n",
    "print(text)\n",
    "result=re.sub(r\"[ ,.]\", \":\",text)\n",
    "print(result)"
   ]
  },
  {
   "cell_type": "markdown",
   "id": "18816052",
   "metadata": {},
   "source": [
    "Question 2-  Create a dataframe using the dictionary below and remove everything (commas (,), !, XXXX, ;, etc.) from the columns except words."
   ]
  },
  {
   "cell_type": "code",
   "execution_count": 8,
   "id": "98a4a97b",
   "metadata": {},
   "outputs": [
    {
     "data": {
      "text/html": [
       "<div>\n",
       "<style scoped>\n",
       "    .dataframe tbody tr th:only-of-type {\n",
       "        vertical-align: middle;\n",
       "    }\n",
       "\n",
       "    .dataframe tbody tr th {\n",
       "        vertical-align: top;\n",
       "    }\n",
       "\n",
       "    .dataframe thead th {\n",
       "        text-align: right;\n",
       "    }\n",
       "</style>\n",
       "<table border=\"1\" class=\"dataframe\">\n",
       "  <thead>\n",
       "    <tr style=\"text-align: right;\">\n",
       "      <th></th>\n",
       "      <th>Summary</th>\n",
       "    </tr>\n",
       "  </thead>\n",
       "  <tbody>\n",
       "    <tr>\n",
       "      <th>0</th>\n",
       "      <td>hello, world!</td>\n",
       "    </tr>\n",
       "    <tr>\n",
       "      <th>1</th>\n",
       "      <td>XXXX test</td>\n",
       "    </tr>\n",
       "    <tr>\n",
       "      <th>2</th>\n",
       "      <td>123four, five:; six...</td>\n",
       "    </tr>\n",
       "  </tbody>\n",
       "</table>\n",
       "</div>"
      ],
      "text/plain": [
       "                  Summary\n",
       "0           hello, world!\n",
       "1               XXXX test\n",
       "2  123four, five:; six..."
      ]
     },
     "execution_count": 8,
     "metadata": {},
     "output_type": "execute_result"
    }
   ],
   "source": [
    "import pandas as pd\n",
    "import regex as re\n",
    "df=pd.DataFrame({\"Summary\":['hello, world!','XXXX test','123four, five:; six...']})\n",
    "df"
   ]
  },
  {
   "cell_type": "code",
   "execution_count": 10,
   "id": "750d501e",
   "metadata": {},
   "outputs": [
    {
     "data": {
      "text/html": [
       "<div>\n",
       "<style scoped>\n",
       "    .dataframe tbody tr th:only-of-type {\n",
       "        vertical-align: middle;\n",
       "    }\n",
       "\n",
       "    .dataframe tbody tr th {\n",
       "        vertical-align: top;\n",
       "    }\n",
       "\n",
       "    .dataframe thead th {\n",
       "        text-align: right;\n",
       "    }\n",
       "</style>\n",
       "<table border=\"1\" class=\"dataframe\">\n",
       "  <thead>\n",
       "    <tr style=\"text-align: right;\">\n",
       "      <th></th>\n",
       "      <th>Summary</th>\n",
       "    </tr>\n",
       "  </thead>\n",
       "  <tbody>\n",
       "    <tr>\n",
       "      <th>0</th>\n",
       "      <td>hello world</td>\n",
       "    </tr>\n",
       "    <tr>\n",
       "      <th>1</th>\n",
       "      <td>test</td>\n",
       "    </tr>\n",
       "    <tr>\n",
       "      <th>2</th>\n",
       "      <td>four five six</td>\n",
       "    </tr>\n",
       "  </tbody>\n",
       "</table>\n",
       "</div>"
      ],
      "text/plain": [
       "         Summary\n",
       "0    hello world\n",
       "1           test\n",
       "2  four five six"
      ]
     },
     "execution_count": 10,
     "metadata": {},
     "output_type": "execute_result"
    }
   ],
   "source": [
    "df['Summary']=df['Summary'].str.replace(\"[^a-z\\s]\",'',regex=True)\n",
    "df"
   ]
  },
  {
   "cell_type": "markdown",
   "id": "117588bc",
   "metadata": {},
   "source": [
    "Question 3- Create a function in python to find all words that are at least 4 characters long in a string. The use of the re.compile() method is mandatory."
   ]
  },
  {
   "cell_type": "code",
   "execution_count": 1,
   "id": "1737b95a",
   "metadata": {},
   "outputs": [
    {
     "name": "stdout",
     "output_type": "stream",
     "text": [
      "['Data', 'Scie', 'Stre', 'part', 'solv', 'many', 'comp', 'prob', 'lems', 'usin', 'data', 'scie', 'tool', 'tech']\n"
     ]
    }
   ],
   "source": [
    "import re\n",
    "def func(Str):\n",
    "    pattern=\"\\w{4}\"\n",
    "    R1=re.compile(pattern)\n",
    "    result=R1.findall(Str)\n",
    "    return result\n",
    "\n",
    "Str=\"Data Science is a Stream and it is a part of AI.You can solve many complex problems using data science tools and techs\"\n",
    "String=func(Str)\n",
    "print(String)"
   ]
  },
  {
   "cell_type": "markdown",
   "id": "a9d8fb3c",
   "metadata": {},
   "source": [
    "\n",
    "Question 4- Create a function in python to find all three, four, and five character words in a string. The use of the re.compile() method is mandatory.\n"
   ]
  },
  {
   "cell_type": "code",
   "execution_count": 37,
   "id": "699d96e8",
   "metadata": {},
   "outputs": [
    {
     "name": "stdout",
     "output_type": "stream",
     "text": [
      "['Data', 'Scien', 'Strea', 'and', 'part', 'You', 'can', 'solve', 'many', 'compl', 'probl', 'ems', 'using', 'data', 'scien', 'tools', 'and', 'techs']\n"
     ]
    }
   ],
   "source": [
    "def func(Str):\n",
    "    R1=re.compile('\\w{3,5}')\n",
    "    result=R1.findall(Str)\n",
    "    return result\n",
    "\n",
    "Str=\"Data Science is a Stream and it is a part of AI.You can solve many complex problems using data science tools and techs\"\n",
    "String=func(Str)\n",
    "print(String)"
   ]
  },
  {
   "cell_type": "markdown",
   "id": "116d199d",
   "metadata": {},
   "source": [
    "Question 5- Create a function in Python to remove the parenthesis in a list of strings. The use of the re.compile() method is mandatory."
   ]
  },
  {
   "cell_type": "code",
   "execution_count": 30,
   "id": "3cf6afc4",
   "metadata": {},
   "outputs": [
    {
     "name": "stdout",
     "output_type": "stream",
     "text": [
      "Input: ['example(.com)', 'hr@fliprobo(.com)', 'github(.com)', 'Hello (Data Science World)', 'Data (Scientist)']\n",
      "example.com\n",
      "hr@fliprobo.com\n",
      "github.com\n",
      "Hello Data Science World\n",
      "Data Scientist\n"
     ]
    }
   ],
   "source": [
    "import re\n",
    "def remove_paren(string):\n",
    "    for s in string:\n",
    "        r1=re.compile(r'[()]')\n",
    "        result=re.sub(r1,r'',s)\n",
    "        print(result)\n",
    "    #return [re.sub(r1,r'',s) for s in string]\n",
    "    \n",
    "        \n",
    "\n",
    "msg=[\"example(.com)\", \"hr@fliprobo(.com)\", \"github(.com)\", \"Hello (Data Science World)\", \"Data (Scientist)\"]\n",
    "print(f'Input:', msg)\n",
    "Output=remove_paren(msg)\n"
   ]
  },
  {
   "cell_type": "markdown",
   "id": "6bd2ab5e",
   "metadata": {},
   "source": [
    "\n",
    "Question 6- Write a python program to remove the parenthesis area from the text stored in the text file using Regular Expression.\n"
   ]
  },
  {
   "cell_type": "code",
   "execution_count": 167,
   "id": "01a77978",
   "metadata": {},
   "outputs": [
    {
     "name": "stdout",
     "output_type": "stream",
     "text": [
      "Input:    \n",
      "\n",
      "[\"example(.com)\", \"hr@fliprobo(.com)\", \"github(.com)\", \"Hello(Data Science World)\", \"Data (Scientist)\"]\n",
      "Output:    \n",
      "\n",
      "[\"example\", \"hr@fliprobo\", \"github\", \"Hello\", \"Data \"]\n"
     ]
    }
   ],
   "source": [
    "import re\n",
    "file=open('msg.txt','r')\n",
    "strings=file.read()\n",
    "print(\"Input:\",strings)\n",
    "r1=re.compile(r\"\\([^()]*\\)\")\n",
    "result=re.sub(r1,r'',strings)\n",
    "print(\"Output:\",result)\n",
    "\n",
    "  "
   ]
  },
  {
   "cell_type": "code",
   "execution_count": 16,
   "id": "653ef3bb",
   "metadata": {},
   "outputs": [
    {
     "name": "stdout",
     "output_type": "stream",
     "text": [
      "['Importance', 'Of', 'Regular', 'Expressions', 'In', 'Python']\n"
     ]
    }
   ],
   "source": [
    "#Question 7- Write a regular expression in Python to split a string into uppercase letters.\n",
    "\n",
    "import re\n",
    "Sample_text=\"ImportanceOfRegularExpressionsInPython\"\n",
    "result=re.sub(r'([A-Z])',r' \\1',Sample_text).split()\n",
    "print(result)"
   ]
  },
  {
   "cell_type": "markdown",
   "id": "d16b8da5",
   "metadata": {},
   "source": [
    "Question 8- Create a function in python to insert spaces between words starting with numbers."
   ]
  },
  {
   "cell_type": "code",
   "execution_count": 34,
   "id": "8013165d",
   "metadata": {},
   "outputs": [
    {
     "name": "stdout",
     "output_type": "stream",
     "text": [
      "RegularExpression 1IsAn 2ImportantTopic 3InPython\n"
     ]
    }
   ],
   "source": [
    "\n",
    "def func(text):\n",
    "    insert_space=re.sub(r'([a-zA-Z]+)(\\d+)', r'\\1 \\2',text)\n",
    "    return insert_space\n",
    "    \n",
    "text=\"RegularExpression1IsAn2ImportantTopic3InPython\"\n",
    "result=func(text)\n",
    "print(result)"
   ]
  },
  {
   "cell_type": "markdown",
   "id": "d7262d72",
   "metadata": {},
   "source": [
    "Question 9- Create a function in python to insert spaces between words starting with capital letters or with numbers."
   ]
  },
  {
   "cell_type": "code",
   "execution_count": 34,
   "id": "c0705bf6",
   "metadata": {},
   "outputs": [
    {
     "name": "stdout",
     "output_type": "stream",
     "text": [
      "RegularExpression 1 IsAn 2 ImportantTopic 3 InPython\n"
     ]
    }
   ],
   "source": [
    "def func(text):\n",
    "    insert_space=re.sub(r'(\\w)(\\d+)', r'\\1 \\2 ',text)\n",
    "    return insert_space\n",
    "    \n",
    "text=\"RegularExpression1IsAn2ImportantTopic3InPython\"\n",
    "result=func(text)\n",
    "print(result)"
   ]
  },
  {
   "cell_type": "code",
   "execution_count": null,
   "id": "3a59c1a4",
   "metadata": {},
   "outputs": [],
   "source": []
  },
  {
   "cell_type": "markdown",
   "id": "fdaca75e",
   "metadata": {},
   "source": [
    "\n",
    "Question 10- Use the github link below to read the data and create a dataframe. After creating the dataframe extract the first 6 letters of each country and store in the dataframe under a new column called first_five_letters.\n"
   ]
  },
  {
   "cell_type": "code",
   "execution_count": 18,
   "id": "1bec851a",
   "metadata": {},
   "outputs": [
    {
     "name": "stdout",
     "output_type": "stream",
     "text": [
      "0      Switzerland\n",
      "1          Iceland\n",
      "2          Denmark\n",
      "3           Norway\n",
      "4           Canada\n",
      "          ...     \n",
      "153         Rwanda\n",
      "154          Benin\n",
      "155          Syria\n",
      "156        Burundi\n",
      "157           Togo\n",
      "Name: Country, Length: 158, dtype: object\n"
     ]
    }
   ],
   "source": [
    "import pandas as pd\n",
    "#url=\"https://raw.githubusercontent.com/dsrscientist/DSData/master/happiness_score_dataset.csv\"\n",
    "df=pd.read_csv('happiness_score_dataset.csv')\n",
    "print(df['Country'])"
   ]
  },
  {
   "cell_type": "code",
   "execution_count": 22,
   "id": "2dd0f0dc",
   "metadata": {},
   "outputs": [
    {
     "data": {
      "text/html": [
       "<div>\n",
       "<style scoped>\n",
       "    .dataframe tbody tr th:only-of-type {\n",
       "        vertical-align: middle;\n",
       "    }\n",
       "\n",
       "    .dataframe tbody tr th {\n",
       "        vertical-align: top;\n",
       "    }\n",
       "\n",
       "    .dataframe thead th {\n",
       "        text-align: right;\n",
       "    }\n",
       "</style>\n",
       "<table border=\"1\" class=\"dataframe\">\n",
       "  <thead>\n",
       "    <tr style=\"text-align: right;\">\n",
       "      <th></th>\n",
       "      <th>Country</th>\n",
       "      <th>Region</th>\n",
       "      <th>Happiness Rank</th>\n",
       "      <th>Happiness Score</th>\n",
       "      <th>Standard Error</th>\n",
       "      <th>Economy (GDP per Capita)</th>\n",
       "      <th>Family</th>\n",
       "      <th>Health (Life Expectancy)</th>\n",
       "      <th>Freedom</th>\n",
       "      <th>Trust (Government Corruption)</th>\n",
       "      <th>Generosity</th>\n",
       "      <th>Dystopia Residual</th>\n",
       "      <th>first_five_letters</th>\n",
       "    </tr>\n",
       "  </thead>\n",
       "  <tbody>\n",
       "    <tr>\n",
       "      <th>0</th>\n",
       "      <td>Switzerland</td>\n",
       "      <td>Western Europe</td>\n",
       "      <td>1</td>\n",
       "      <td>7.587</td>\n",
       "      <td>0.03411</td>\n",
       "      <td>1.39651</td>\n",
       "      <td>1.34951</td>\n",
       "      <td>0.94143</td>\n",
       "      <td>0.66557</td>\n",
       "      <td>0.41978</td>\n",
       "      <td>0.29678</td>\n",
       "      <td>2.51738</td>\n",
       "      <td>Switze</td>\n",
       "    </tr>\n",
       "    <tr>\n",
       "      <th>1</th>\n",
       "      <td>Iceland</td>\n",
       "      <td>Western Europe</td>\n",
       "      <td>2</td>\n",
       "      <td>7.561</td>\n",
       "      <td>0.04884</td>\n",
       "      <td>1.30232</td>\n",
       "      <td>1.40223</td>\n",
       "      <td>0.94784</td>\n",
       "      <td>0.62877</td>\n",
       "      <td>0.14145</td>\n",
       "      <td>0.43630</td>\n",
       "      <td>2.70201</td>\n",
       "      <td>Icelan</td>\n",
       "    </tr>\n",
       "    <tr>\n",
       "      <th>2</th>\n",
       "      <td>Denmark</td>\n",
       "      <td>Western Europe</td>\n",
       "      <td>3</td>\n",
       "      <td>7.527</td>\n",
       "      <td>0.03328</td>\n",
       "      <td>1.32548</td>\n",
       "      <td>1.36058</td>\n",
       "      <td>0.87464</td>\n",
       "      <td>0.64938</td>\n",
       "      <td>0.48357</td>\n",
       "      <td>0.34139</td>\n",
       "      <td>2.49204</td>\n",
       "      <td>Denmar</td>\n",
       "    </tr>\n",
       "    <tr>\n",
       "      <th>3</th>\n",
       "      <td>Norway</td>\n",
       "      <td>Western Europe</td>\n",
       "      <td>4</td>\n",
       "      <td>7.522</td>\n",
       "      <td>0.03880</td>\n",
       "      <td>1.45900</td>\n",
       "      <td>1.33095</td>\n",
       "      <td>0.88521</td>\n",
       "      <td>0.66973</td>\n",
       "      <td>0.36503</td>\n",
       "      <td>0.34699</td>\n",
       "      <td>2.46531</td>\n",
       "      <td>Norway</td>\n",
       "    </tr>\n",
       "    <tr>\n",
       "      <th>4</th>\n",
       "      <td>Canada</td>\n",
       "      <td>North America</td>\n",
       "      <td>5</td>\n",
       "      <td>7.427</td>\n",
       "      <td>0.03553</td>\n",
       "      <td>1.32629</td>\n",
       "      <td>1.32261</td>\n",
       "      <td>0.90563</td>\n",
       "      <td>0.63297</td>\n",
       "      <td>0.32957</td>\n",
       "      <td>0.45811</td>\n",
       "      <td>2.45176</td>\n",
       "      <td>Canada</td>\n",
       "    </tr>\n",
       "    <tr>\n",
       "      <th>...</th>\n",
       "      <td>...</td>\n",
       "      <td>...</td>\n",
       "      <td>...</td>\n",
       "      <td>...</td>\n",
       "      <td>...</td>\n",
       "      <td>...</td>\n",
       "      <td>...</td>\n",
       "      <td>...</td>\n",
       "      <td>...</td>\n",
       "      <td>...</td>\n",
       "      <td>...</td>\n",
       "      <td>...</td>\n",
       "      <td>...</td>\n",
       "    </tr>\n",
       "    <tr>\n",
       "      <th>153</th>\n",
       "      <td>Rwanda</td>\n",
       "      <td>Sub-Saharan Africa</td>\n",
       "      <td>154</td>\n",
       "      <td>3.465</td>\n",
       "      <td>0.03464</td>\n",
       "      <td>0.22208</td>\n",
       "      <td>0.77370</td>\n",
       "      <td>0.42864</td>\n",
       "      <td>0.59201</td>\n",
       "      <td>0.55191</td>\n",
       "      <td>0.22628</td>\n",
       "      <td>0.67042</td>\n",
       "      <td>Rwanda</td>\n",
       "    </tr>\n",
       "    <tr>\n",
       "      <th>154</th>\n",
       "      <td>Benin</td>\n",
       "      <td>Sub-Saharan Africa</td>\n",
       "      <td>155</td>\n",
       "      <td>3.340</td>\n",
       "      <td>0.03656</td>\n",
       "      <td>0.28665</td>\n",
       "      <td>0.35386</td>\n",
       "      <td>0.31910</td>\n",
       "      <td>0.48450</td>\n",
       "      <td>0.08010</td>\n",
       "      <td>0.18260</td>\n",
       "      <td>1.63328</td>\n",
       "      <td>Benin</td>\n",
       "    </tr>\n",
       "    <tr>\n",
       "      <th>155</th>\n",
       "      <td>Syria</td>\n",
       "      <td>Middle East and Northern Africa</td>\n",
       "      <td>156</td>\n",
       "      <td>3.006</td>\n",
       "      <td>0.05015</td>\n",
       "      <td>0.66320</td>\n",
       "      <td>0.47489</td>\n",
       "      <td>0.72193</td>\n",
       "      <td>0.15684</td>\n",
       "      <td>0.18906</td>\n",
       "      <td>0.47179</td>\n",
       "      <td>0.32858</td>\n",
       "      <td>Syria</td>\n",
       "    </tr>\n",
       "    <tr>\n",
       "      <th>156</th>\n",
       "      <td>Burundi</td>\n",
       "      <td>Sub-Saharan Africa</td>\n",
       "      <td>157</td>\n",
       "      <td>2.905</td>\n",
       "      <td>0.08658</td>\n",
       "      <td>0.01530</td>\n",
       "      <td>0.41587</td>\n",
       "      <td>0.22396</td>\n",
       "      <td>0.11850</td>\n",
       "      <td>0.10062</td>\n",
       "      <td>0.19727</td>\n",
       "      <td>1.83302</td>\n",
       "      <td>Burund</td>\n",
       "    </tr>\n",
       "    <tr>\n",
       "      <th>157</th>\n",
       "      <td>Togo</td>\n",
       "      <td>Sub-Saharan Africa</td>\n",
       "      <td>158</td>\n",
       "      <td>2.839</td>\n",
       "      <td>0.06727</td>\n",
       "      <td>0.20868</td>\n",
       "      <td>0.13995</td>\n",
       "      <td>0.28443</td>\n",
       "      <td>0.36453</td>\n",
       "      <td>0.10731</td>\n",
       "      <td>0.16681</td>\n",
       "      <td>1.56726</td>\n",
       "      <td>Togo</td>\n",
       "    </tr>\n",
       "  </tbody>\n",
       "</table>\n",
       "<p>158 rows × 13 columns</p>\n",
       "</div>"
      ],
      "text/plain": [
       "         Country                           Region  Happiness Rank  \\\n",
       "0    Switzerland                   Western Europe               1   \n",
       "1        Iceland                   Western Europe               2   \n",
       "2        Denmark                   Western Europe               3   \n",
       "3         Norway                   Western Europe               4   \n",
       "4         Canada                    North America               5   \n",
       "..           ...                              ...             ...   \n",
       "153       Rwanda               Sub-Saharan Africa             154   \n",
       "154        Benin               Sub-Saharan Africa             155   \n",
       "155        Syria  Middle East and Northern Africa             156   \n",
       "156      Burundi               Sub-Saharan Africa             157   \n",
       "157         Togo               Sub-Saharan Africa             158   \n",
       "\n",
       "     Happiness Score  Standard Error  Economy (GDP per Capita)   Family  \\\n",
       "0              7.587         0.03411                   1.39651  1.34951   \n",
       "1              7.561         0.04884                   1.30232  1.40223   \n",
       "2              7.527         0.03328                   1.32548  1.36058   \n",
       "3              7.522         0.03880                   1.45900  1.33095   \n",
       "4              7.427         0.03553                   1.32629  1.32261   \n",
       "..               ...             ...                       ...      ...   \n",
       "153            3.465         0.03464                   0.22208  0.77370   \n",
       "154            3.340         0.03656                   0.28665  0.35386   \n",
       "155            3.006         0.05015                   0.66320  0.47489   \n",
       "156            2.905         0.08658                   0.01530  0.41587   \n",
       "157            2.839         0.06727                   0.20868  0.13995   \n",
       "\n",
       "     Health (Life Expectancy)  Freedom  Trust (Government Corruption)  \\\n",
       "0                     0.94143  0.66557                        0.41978   \n",
       "1                     0.94784  0.62877                        0.14145   \n",
       "2                     0.87464  0.64938                        0.48357   \n",
       "3                     0.88521  0.66973                        0.36503   \n",
       "4                     0.90563  0.63297                        0.32957   \n",
       "..                        ...      ...                            ...   \n",
       "153                   0.42864  0.59201                        0.55191   \n",
       "154                   0.31910  0.48450                        0.08010   \n",
       "155                   0.72193  0.15684                        0.18906   \n",
       "156                   0.22396  0.11850                        0.10062   \n",
       "157                   0.28443  0.36453                        0.10731   \n",
       "\n",
       "     Generosity  Dystopia Residual first_five_letters  \n",
       "0       0.29678            2.51738             Switze  \n",
       "1       0.43630            2.70201             Icelan  \n",
       "2       0.34139            2.49204             Denmar  \n",
       "3       0.34699            2.46531             Norway  \n",
       "4       0.45811            2.45176             Canada  \n",
       "..          ...                ...                ...  \n",
       "153     0.22628            0.67042             Rwanda  \n",
       "154     0.18260            1.63328              Benin  \n",
       "155     0.47179            0.32858              Syria  \n",
       "156     0.19727            1.83302             Burund  \n",
       "157     0.16681            1.56726               Togo  \n",
       "\n",
       "[158 rows x 13 columns]"
      ]
     },
     "execution_count": 22,
     "metadata": {},
     "output_type": "execute_result"
    }
   ],
   "source": [
    "df['first_five_letters']=df['Country'].str[:6]\n",
    "df['first_five_letters'].head(10)\n",
    "df"
   ]
  },
  {
   "cell_type": "markdown",
   "id": "1b809054",
   "metadata": {},
   "source": [
    "\n",
    "Question 11- Write a Python program to match a string that contains only upper and lowercase letters, numbers, and underscores.\n"
   ]
  },
  {
   "cell_type": "code",
   "execution_count": 14,
   "id": "7a356854",
   "metadata": {},
   "outputs": [
    {
     "name": "stdout",
     "output_type": "stream",
     "text": [
      "['D', '', 't', '', '5CIENCE', '', '', 'nvolvEs', '', 'COMPLEX', '', 'machine', '', '', 'e', '', 'arNING', '', 'algorithms123', '', 'which', '', 'are', '', 'used', '', 'to', '', 'build', '', 'pred', '', '_', '', 't', '', 've', '', 'models1', '']\n"
     ]
    }
   ],
   "source": [
    "#The input Target contains all characters including special charactes but'\\w* returns only charaacters[A-za-z0-9]\n",
    "\n",
    "\n",
    "\n",
    "import re\n",
    "Target='D@t@5CIENCE !nvolvEs COMPLEX machine !e@arNING algorithms123 which are used to build pred!_(t$ve models1'\n",
    "pattern='\\w*'\n",
    "r1=re.compile(pattern)\n",
    "result=r1.findall(Target)\n",
    "print(result)"
   ]
  },
  {
   "cell_type": "markdown",
   "id": "e5a2f025",
   "metadata": {},
   "source": [
    "Question 12- Write a Python program where a string will start with a specific number. "
   ]
  },
  {
   "cell_type": "code",
   "execution_count": 15,
   "id": "aa05e586",
   "metadata": {},
   "outputs": [
    {
     "name": "stdout",
     "output_type": "stream",
     "text": [
      "<re.Match object; span=(0, 4), match='1947'>\n",
      "1947\n"
     ]
    }
   ],
   "source": [
    "import re\n",
    "text=\"1947 August we got independence\"\n",
    "pattern=re.match(r\"\\d{4}\",text)\n",
    "print(pattern)\n",
    "print(pattern.group())"
   ]
  },
  {
   "cell_type": "code",
   "execution_count": null,
   "id": "87357b5f",
   "metadata": {},
   "outputs": [],
   "source": [
    "Question 13- Write a Python program to remove leading zeros from an IP address"
   ]
  },
  {
   "cell_type": "code",
   "execution_count": 73,
   "id": "717b3795",
   "metadata": {},
   "outputs": [
    {
     "name": "stdout",
     "output_type": "stream",
     "text": [
      "Input: 69.023.0045.078\n",
      "Result: 69.23.45.78\n"
     ]
    }
   ],
   "source": [
    "ip_address=\"69.023.0045.078\"\n",
    "print(\"Input:\",ip_address)\n",
    "x=re.sub(r\"\\.[0]*\",\".\",ip_address) #Removes Leading spaces\n",
    "print(\"Result:\",x)"
   ]
  },
  {
   "cell_type": "markdown",
   "id": "3c90e61b",
   "metadata": {},
   "source": [
    "Question 14- Write a regular expression in python to match a date string in the form of Month name followed by day number and year stored in a text file."
   ]
  },
  {
   "cell_type": "code",
   "execution_count": 46,
   "id": "539768c7",
   "metadata": {},
   "outputs": [
    {
     "name": "stdout",
     "output_type": "stream",
     "text": [
      "Input: On August 15th 1947 that India was declared independent from British colonialism, and the reins of control were handed over to the leaders of the Country.\n",
      "Output: August 15th 1947\n"
     ]
    }
   ],
   "source": [
    "import re\n",
    "file=open(\"SampleDate.txt\",'r')\n",
    "SampleText=file.read()\n",
    "print(\"Input:\",SampleText)\n",
    "pattern = r\"\\b([A-Z][a-z]+) \\d{1,2}(st|nd|rd|th) \\d{4}\\b\"\n",
    "result=re.search(pattern, SampleText)\n",
    "print(\"Output:\",result.group())\n"
   ]
  },
  {
   "cell_type": "markdown",
   "id": "88d9c5e5",
   "metadata": {},
   "source": [
    "\n",
    "Question 15- Write a Python program to search some literals strings in a string. \n",
    "\n"
   ]
  },
  {
   "cell_type": "code",
   "execution_count": 57,
   "id": "bb399373",
   "metadata": {},
   "outputs": [
    {
     "name": "stdout",
     "output_type": "stream",
     "text": [
      "Search for \"fox\" in \"The quick brown fox jumps over the lazy dog.\" String Matched!\n",
      "Search for \"dog\" in \"The quick brown fox jumps over the lazy dog.\" String Matched!\n",
      "Search for \"horse\" in \"The quick brown fox jumps over the lazy dog.\" String Not Matched\n"
     ]
    }
   ],
   "source": [
    "literals=['fox','dog','horse']\n",
    "text='The quick brown fox jumps over the lazy dog.'\n",
    "for literal in literals:\n",
    "    if re.search(literal,text):\n",
    "        print(f'Search for \"{literal}\" in \"{text}\" String Matched!')\n",
    "    else:\n",
    "        print(f'Search for \"{literal}\" in \"{text}\" String Not Matched')"
   ]
  },
  {
   "cell_type": "markdown",
   "id": "ea185de8",
   "metadata": {},
   "source": [
    "\n",
    "Question 16- Write a Python program to search a literals string in a string and also find the location within the original string where the pattern occurs\n"
   ]
  },
  {
   "cell_type": "code",
   "execution_count": 61,
   "id": "d2cf7fc2",
   "metadata": {},
   "outputs": [
    {
     "name": "stdout",
     "output_type": "stream",
     "text": [
      "The String \"fox\" from the text \"The quick brown fox jumps over the lazy dog.\" is found at the location 16,19.\n"
     ]
    }
   ],
   "source": [
    "text='The quick brown fox jumps over the lazy dog.'\n",
    "search='fox'\n",
    "SearchedString=re.search(search,text)\n",
    "startingloc=SearchedString.start()\n",
    "endingloc=SearchedString.end()\n",
    "print(f'The String \"{search}\" from the text \"{text}\" is found at the location {startingloc},{endingloc}.')"
   ]
  },
  {
   "cell_type": "markdown",
   "id": "2a51778f",
   "metadata": {},
   "source": [
    "Question 17- Write a Python program to find the substrings within a string."
   ]
  },
  {
   "cell_type": "code",
   "execution_count": 62,
   "id": "8072ef2b",
   "metadata": {},
   "outputs": [
    {
     "name": "stdout",
     "output_type": "stream",
     "text": [
      "['exercises']\n"
     ]
    }
   ],
   "source": [
    "import re\n",
    "text=\"Python Exercises, PHP exercises.\"\n",
    "result=re.findall(r\"(exercises)\",text)\n",
    "print(result)"
   ]
  },
  {
   "cell_type": "markdown",
   "id": "2830bfa6",
   "metadata": {},
   "source": [
    "Question 18- Write a Python program to find the occurrence and position of the substrings within a string."
   ]
  },
  {
   "cell_type": "code",
   "execution_count": 48,
   "id": "aff16be0",
   "metadata": {},
   "outputs": [
    {
     "name": "stdout",
     "output_type": "stream",
     "text": [
      "Substring \"Data\" found at position :0,4\n",
      "Substring \"Data\" found at position :37,41\n",
      "Substring \"Data\" found at position :87,91\n"
     ]
    }
   ],
   "source": [
    "import re\n",
    "text=\"Data Science is useful in extracting Data where it can be used to enhance the business.Data science is also a part of AI\"\n",
    "result='Data'\n",
    "for search in re.finditer(result,text):\n",
    "        start_loc=search.start()\n",
    "        end_loc=search.end()\n",
    "        print(f'Substring \"{result}\" found at position :{start_loc},{end_loc}')\n"
   ]
  },
  {
   "cell_type": "markdown",
   "id": "f52c756f",
   "metadata": {},
   "source": [
    "\n",
    "Question 19- Write a Python program to convert a date of yyyy-mm-dd format to dd-mm-yyyy format.\n",
    "\n"
   ]
  },
  {
   "cell_type": "code",
   "execution_count": 113,
   "id": "98b192b2",
   "metadata": {},
   "outputs": [
    {
     "name": "stdout",
     "output_type": "stream",
     "text": [
      "04-05-2024\n"
     ]
    }
   ],
   "source": [
    "import re\n",
    "date=\"2024-05-04\"\n",
    "dateformat=re.sub(r'(\\d{4})-(\\d{1,2})-(\\d{1,2})',r'\\3-\\2-\\1',date)\n",
    "print(dateformat)"
   ]
  },
  {
   "cell_type": "markdown",
   "id": "021a4c60",
   "metadata": {},
   "source": [
    "\n",
    "Question 20- Create a function in python to find all decimal numbers with a precision of 1 or 2 in a string. The use of the re.compile() method is mandatory.\n"
   ]
  },
  {
   "cell_type": "code",
   "execution_count": null,
   "id": "875488ec",
   "metadata": {},
   "outputs": [],
   "source": [
    "def decimalfunc(Sample_Text):\n",
    "    decimal=re.compile(r\"\\b\\d+\\.\\d{1,2}\\b\")\n",
    "    result=decimal.findall(Sample_Text)\n",
    "    return result\n",
    "    \n",
    "Sample_Text=\"01.12 0132.123 2.31875 145.8 3.01 27.25 0.25\"\n",
    "DecimalValue=decimalfunc(Sample_Text)\n",
    "print(DecimalValue)"
   ]
  },
  {
   "cell_type": "markdown",
   "id": "6ac740df",
   "metadata": {},
   "source": [
    "Question 21- Write a Python program to separate and print the numbers and their position of a given string."
   ]
  },
  {
   "cell_type": "code",
   "execution_count": 114,
   "id": "2d781ae7",
   "metadata": {},
   "outputs": [
    {
     "name": "stdout",
     "output_type": "stream",
     "text": [
      "Number: 28\n",
      "Number position: 10 12\n",
      "Number: 8\n",
      "Number position: 24 25\n"
     ]
    }
   ],
   "source": [
    "text=\"There are 28 states and 8 Union territories in the country of India.\"\n",
    "for i in re.finditer(\"\\d+\",text):\n",
    "                     print(\"Number:\",i.group(0))\n",
    "                     print(\"Number position:\",i.start(),i.end())\n",
    "                     "
   ]
  },
  {
   "cell_type": "markdown",
   "id": "6d8f2870",
   "metadata": {},
   "source": [
    "\n",
    "Question 22- Write a regular expression in python program to extract maximum/largest numeric value from a string.\n"
   ]
  },
  {
   "cell_type": "code",
   "execution_count": 27,
   "id": "e9e4ccb6",
   "metadata": {},
   "outputs": [
    {
     "name": "stdout",
     "output_type": "stream",
     "text": [
      "950\n"
     ]
    }
   ],
   "source": [
    "String2=\"My marks in each semester are: 947, 896, 926, 524, 734, 950, 642\"\n",
    "largestValue=re.findall('\\d+',String2)\n",
    "largestValue=map(int,largestValue)\n",
    "print(max(largestValue))"
   ]
  },
  {
   "cell_type": "markdown",
   "id": "7abffd95",
   "metadata": {},
   "source": [
    "Question 23- Create a function in python to insert spaces between words starting with capital letters."
   ]
  },
  {
   "cell_type": "code",
   "execution_count": 6,
   "id": "66f68ea8",
   "metadata": {},
   "outputs": [
    {
     "name": "stdout",
     "output_type": "stream",
     "text": [
      "Regular Expression1 Is An2 Important Topic3 In Python\n"
     ]
    }
   ],
   "source": [
    "import re\n",
    "def func(text):\n",
    "    insert_space=re.sub(r'(\\w)([A-Z])', r'\\1 \\2',text)\n",
    "    return insert_space\n",
    "    \n",
    "text=\"RegularExpression1IsAn2ImportantTopic3InPython\"\n",
    "result=func(text)\n",
    "print(result)"
   ]
  },
  {
   "cell_type": "markdown",
   "id": "cbd912b2",
   "metadata": {},
   "source": [
    "Question 24- Python regex to find sequences of one upper case letter followed by lower case letters"
   ]
  },
  {
   "cell_type": "code",
   "execution_count": 11,
   "id": "d5380aa7",
   "metadata": {},
   "outputs": [
    {
     "name": "stdout",
     "output_type": "stream",
     "text": [
      "['Election', 'Helds', 'April', 'India']\n"
     ]
    }
   ],
   "source": [
    "text=\"Election Helds on April 19th 2024 in India\"\n",
    "InitCaps=re.findall(\"[A-Z][a-z]+\",text)\n",
    "print(InitCaps)"
   ]
  },
  {
   "cell_type": "markdown",
   "id": "495a508a",
   "metadata": {},
   "source": [
    "\n",
    "Question 25- Write a Python program to remove continuous duplicate words from Sentence using Regular Expression.\n"
   ]
  },
  {
   "cell_type": "code",
   "execution_count": 6,
   "id": "37c68e47",
   "metadata": {},
   "outputs": [
    {
     "name": "stdout",
     "output_type": "stream",
     "text": [
      "Hello hello world\n"
     ]
    }
   ],
   "source": [
    "import regex as re\n",
    "string_1=\"Hello hello world world\"\n",
    "regex=r'\\b(\\w+)(\\W+\\1\\b)+'\n",
    "x=re.sub(regex,r'\\1',string_1)\n",
    "print(x)"
   ]
  },
  {
   "cell_type": "markdown",
   "id": "8a4f511b",
   "metadata": {},
   "source": [
    "\n",
    "Question 26-  Write a python program using RegEx to accept string ending with alphanumeric character\n"
   ]
  },
  {
   "cell_type": "code",
   "execution_count": 35,
   "id": "a29258d5",
   "metadata": {},
   "outputs": [
    {
     "name": "stdout",
     "output_type": "stream",
     "text": [
      "Enter String: Raaji=\n",
      "String Not Accepted\n"
     ]
    }
   ],
   "source": [
    "text=input(\"Enter String: \")\n",
    "alphanumeric=\"\\w+$\"\n",
    "if(re.search(alphanumeric,text)):\n",
    "     print('String Accepted')\n",
    "else:\n",
    "     print('String Not Accepted')"
   ]
  },
  {
   "cell_type": "markdown",
   "id": "4586b0ed",
   "metadata": {},
   "source": [
    "Question 27-Write a python program using RegEx to extract the hashtags."
   ]
  },
  {
   "cell_type": "code",
   "execution_count": 157,
   "id": "e2a93911",
   "metadata": {},
   "outputs": [
    {
     "name": "stdout",
     "output_type": "stream",
     "text": [
      "['#Doltiwal', '#xyzabc', '#Demonetization']\n"
     ]
    }
   ],
   "source": [
    "text=\"\"\"\"RT @kapil_kausik: #Doltiwal I mean #xyzabc is \"hurt\" by #Demonetization as the same has rendered USELESS <ed><U+00A0><U+00BD><ed><U+00B1><U+0089> \"acquired funds\" No wo\"\"\"\"\"\n",
    "result=re.findall(r'#\\w*',text)\n",
    "print(result)"
   ]
  },
  {
   "cell_type": "markdown",
   "id": "f456e203",
   "metadata": {},
   "source": [
    "Question 28- Write a python program using RegEx to remove <U+..> like symbolsc"
   ]
  },
  {
   "cell_type": "code",
   "execution_count": 64,
   "id": "5054c07e",
   "metadata": {},
   "outputs": [
    {
     "name": "stdout",
     "output_type": "stream",
     "text": [
      "@Jags123456 Bharat band on 28??<ed>  <ed>  Those who  are protesting #demonetization  are all different party leaders\n"
     ]
    }
   ],
   "source": [
    "text=\"@Jags123456 Bharat band on 28??<ed><U+00A0><U+00BD><ed><U+00B8><U+0082>Those who  are protesting #demonetization  are all different party leaders\"\n",
    "pattern=(r'<U\\+[0-9A-Z]+>')\n",
    "result=re.sub(pattern,r' ',text)\n",
    "print(result)"
   ]
  },
  {
   "cell_type": "markdown",
   "id": "e1794e72",
   "metadata": {},
   "source": [
    "Question 29- Write a python program to extract dates from the text stored in the text file."
   ]
  },
  {
   "cell_type": "code",
   "execution_count": 23,
   "id": "31c6e4fc",
   "metadata": {},
   "outputs": [
    {
     "name": "stdout",
     "output_type": "stream",
     "text": [
      "Ron was born on 12-09-1992 and he was admitted to school 15-12-1999.\n",
      "['12-09-1992', '15-12-1999']\n"
     ]
    }
   ],
   "source": [
    "file=open('Date.txt','r')\n",
    "text=file.read()\n",
    "print(text)\n",
    "\n",
    "date=re.findall(r\"(\\d{2}-\\d{2}-\\d{4})\",text)\n",
    "print(date)"
   ]
  },
  {
   "cell_type": "markdown",
   "id": "730a6e02",
   "metadata": {},
   "source": [
    "\n",
    "Question 30- Create a function in python to remove all words from a string of length between 2 and 4.\n"
   ]
  },
  {
   "cell_type": "code",
   "execution_count": 41,
   "id": "b4f1d845",
   "metadata": {},
   "outputs": [
    {
     "name": "stdout",
     "output_type": "stream",
     "text": [
      " following example creates  ArrayList  a capacity   elements. 4 element   added   ArrayList   ArrayList  trimmed accordingly.\n"
     ]
    }
   ],
   "source": [
    "def remove_words(text):\n",
    "    \n",
    "    p1=re.compile(r'\\b\\w{2,4}\\b')\n",
    "    result=p1.sub(r'',text)\n",
    "    return result\n",
    "    \n",
    "text=\"The following example creates an ArrayList with a capacity of 50 elements. 4 element are then added to the ArrayList and the ArrayList is trimmed accordingly.\"\n",
    "output=remove_words(text)\n",
    "print(output)"
   ]
  },
  {
   "cell_type": "code",
   "execution_count": null,
   "id": "9223fcda",
   "metadata": {},
   "outputs": [],
   "source": []
  },
  {
   "cell_type": "code",
   "execution_count": null,
   "id": "57f2230b",
   "metadata": {},
   "outputs": [],
   "source": []
  }
 ],
 "metadata": {
  "kernelspec": {
   "display_name": "Python 3 (ipykernel)",
   "language": "python",
   "name": "python3"
  },
  "language_info": {
   "codemirror_mode": {
    "name": "ipython",
    "version": 3
   },
   "file_extension": ".py",
   "mimetype": "text/x-python",
   "name": "python",
   "nbconvert_exporter": "python",
   "pygments_lexer": "ipython3",
   "version": "3.11.5"
  }
 },
 "nbformat": 4,
 "nbformat_minor": 5
}
